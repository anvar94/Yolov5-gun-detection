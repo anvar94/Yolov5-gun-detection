{
  "nbformat": 4,
  "nbformat_minor": 0,
  "metadata": {
    "colab": {
      "name": "carnumberv5.ipynb",
      "provenance": [],
      "authorship_tag": "ABX9TyMMORQD+QewJmOfie67FqMt",
      "include_colab_link": true
    },
    "kernelspec": {
      "name": "python3",
      "display_name": "Python 3"
    },
    "accelerator": "GPU"
  },
  "cells": [
    {
      "cell_type": "markdown",
      "metadata": {
        "id": "view-in-github",
        "colab_type": "text"
      },
      "source": [
        "<a href=\"https://colab.research.google.com/github/anvar94/Yolov5-gun-detection/blob/main/license_plate_detection.ipynb\" target=\"_parent\"><img src=\"https://colab.research.google.com/assets/colab-badge.svg\" alt=\"Open In Colab\"/></a>"
      ]
    },
    {
      "cell_type": "code",
      "metadata": {
        "colab": {
          "base_uri": "https://localhost:8080/"
        },
        "id": "HK8GgU9t7vxk",
        "outputId": "37849bae-5c4e-4d4f-ab6d-9d7b88761ae6"
      },
      "source": [
        "from google.colab import drive\r\n",
        "drive.mount('/content/drive')"
      ],
      "execution_count": null,
      "outputs": [
        {
          "output_type": "stream",
          "text": [
            "Mounted at /content/drive\n"
          ],
          "name": "stdout"
        }
      ]
    },
    {
      "cell_type": "code",
      "metadata": {
        "colab": {
          "base_uri": "https://localhost:8080/"
        },
        "id": "e0FZF4Od-27S",
        "outputId": "bdf9b65e-f6f4-4065-f504-06ee9d6e1b73"
      },
      "source": [
        "!nvidia-smi\r\n"
      ],
      "execution_count": null,
      "outputs": [
        {
          "output_type": "stream",
          "text": [
            "Mon Jan 25 14:07:16 2021       \n",
            "+-----------------------------------------------------------------------------+\n",
            "| NVIDIA-SMI 460.32.03    Driver Version: 418.67       CUDA Version: 10.1     |\n",
            "|-------------------------------+----------------------+----------------------+\n",
            "| GPU  Name        Persistence-M| Bus-Id        Disp.A | Volatile Uncorr. ECC |\n",
            "| Fan  Temp  Perf  Pwr:Usage/Cap|         Memory-Usage | GPU-Util  Compute M. |\n",
            "|                               |                      |               MIG M. |\n",
            "|===============================+======================+======================|\n",
            "|   0  Tesla T4            Off  | 00000000:00:04.0 Off |                    0 |\n",
            "| N/A   54C    P8    10W /  70W |      0MiB / 15079MiB |      0%      Default |\n",
            "|                               |                      |                 ERR! |\n",
            "+-------------------------------+----------------------+----------------------+\n",
            "                                                                               \n",
            "+-----------------------------------------------------------------------------+\n",
            "| Processes:                                                                  |\n",
            "|  GPU   GI   CI        PID   Type   Process name                  GPU Memory |\n",
            "|        ID   ID                                                   Usage      |\n",
            "|=============================================================================|\n",
            "|  No running processes found                                                 |\n",
            "+-----------------------------------------------------------------------------+\n"
          ],
          "name": "stdout"
        }
      ]
    },
    {
      "cell_type": "code",
      "metadata": {
        "colab": {
          "base_uri": "https://localhost:8080/"
        },
        "id": "yx3SI1___BHF",
        "outputId": "3a1c787b-498f-4098-825f-865dca6ba872"
      },
      "source": [
        "!ls '/content/drive/My Drive/yolov5cardetection'"
      ],
      "execution_count": null,
      "outputs": [
        {
          "output_type": "stream",
          "text": [
            "coco128  images  images_car.zip  yolov5\n"
          ],
          "name": "stdout"
        }
      ]
    },
    {
      "cell_type": "code",
      "metadata": {
        "colab": {
          "base_uri": "https://localhost:8080/"
        },
        "id": "s1kGsmHO_XhG",
        "outputId": "e679522e-4e3b-4ec2-ecc5-ec4a6e15a016"
      },
      "source": [
        "#!unzip '/content/drive/My Drive/yolov5cardetection/images_car.zip' -d '/content/drive/My Drive/yolov5cardetection'"
      ],
      "execution_count": null,
      "outputs": [
        {
          "output_type": "stream",
          "text": [
            "Archive:  /content/drive/My Drive/yolov5cardetection/images_car.zip\n",
            "  inflating: /content/drive/My Drive/yolov5cardetection/images/data.yaml  \n",
            "   creating: /content/drive/My Drive/yolov5cardetection/images/images/\n",
            "  inflating: /content/drive/My Drive/yolov5cardetection/images/images/attachment-e19784d5-1536-4bf3-a57b-c8605e1ea5bf.png  \n",
            "  inflating: /content/drive/My Drive/yolov5cardetection/images/images/attachment-e5563def-346a-4d57-b61d-31950d5a141c.png  \n",
            "  inflating: /content/drive/My Drive/yolov5cardetection/images/images/attachment-e7385331-eb94-471b-97ad-3ccf8e204830.png  \n",
            "  inflating: /content/drive/My Drive/yolov5cardetection/images/images/attachment-e99985c7-b432-4055-beac-96c3cc6f2bae.png  \n",
            "  inflating: /content/drive/My Drive/yolov5cardetection/images/images/attachment-ea47a4de-fda7-4bfc-904b-e40eb9537b4a.png  \n",
            "  inflating: /content/drive/My Drive/yolov5cardetection/images/images/attachment-ea5f64e5-0918-4b79-9826-8faec98d76e3.png  \n",
            "  inflating: /content/drive/My Drive/yolov5cardetection/images/images/attachment-ea6423be-a889-44f2-8cbe-30addf3d6ec4.png  \n",
            "  inflating: /content/drive/My Drive/yolov5cardetection/images/images/attachment-ea812f34-976d-4517-9c95-3ae19b59ff03.png  \n",
            "  inflating: /content/drive/My Drive/yolov5cardetection/images/images/attachment-eaa62896-b046-492b-ac04-d18a02c52e91.png  \n",
            "  inflating: /content/drive/My Drive/yolov5cardetection/images/images/attachment-eae8554d-94bf-40ca-8155-9ea4ab68d656.png  \n",
            "  inflating: /content/drive/My Drive/yolov5cardetection/images/images/attachment-eb084eb0-dd93-477a-be96-de1acecdb4be.png  \n",
            "  inflating: /content/drive/My Drive/yolov5cardetection/images/images/attachment-eb29a0d1-cd43-4377-b82e-a9fcc830970b.png  \n",
            "  inflating: /content/drive/My Drive/yolov5cardetection/images/images/attachment-ebc26d8e-9d16-4bd1-bd51-02f30f025a28.png  \n",
            "  inflating: /content/drive/My Drive/yolov5cardetection/images/images/attachment-ec2f3b42-58bd-4460-b75a-80138ce1d583.png  \n",
            "  inflating: /content/drive/My Drive/yolov5cardetection/images/images/attachment-ec753efe-0374-499b-ab84-475312f717b9.png  \n",
            "  inflating: /content/drive/My Drive/yolov5cardetection/images/images/attachment-ed55dfe6-7b70-4a2f-a9a6-68f91dbb56b4.png  \n",
            "  inflating: /content/drive/My Drive/yolov5cardetection/images/images/attachment-ed58a7fc-f343-44db-8333-ad9815ba8ad2.png  \n",
            "  inflating: /content/drive/My Drive/yolov5cardetection/images/images/attachment-ed7a45b4-6cb0-434a-a3f0-3a40f75fbc81.png  \n",
            "  inflating: /content/drive/My Drive/yolov5cardetection/images/images/attachment-edaf6d0c-db5c-44e5-85e8-0e7948db12f9.png  \n",
            "  inflating: /content/drive/My Drive/yolov5cardetection/images/images/attachment-edb0f57d-0469-43d6-a199-25c3f82b1ed9.png  \n",
            "  inflating: /content/drive/My Drive/yolov5cardetection/images/images/attachment-ee0425b0-afcf-4a19-9f9e-8b8822fba7ca.png  \n",
            "  inflating: /content/drive/My Drive/yolov5cardetection/images/images/attachment-ee5f1cb8-ffd8-4678-bba6-e19a454d5616.png  \n",
            "  inflating: /content/drive/My Drive/yolov5cardetection/images/images/attachment-ee7a3ffe-1573-4735-b736-9877bec0bf4c.png  \n",
            "  inflating: /content/drive/My Drive/yolov5cardetection/images/images/attachment-ef27208c-35b0-455b-87fc-bfe22e5d3b81.png  \n",
            "  inflating: /content/drive/My Drive/yolov5cardetection/images/images/attachment-ef820f08-c773-4206-9853-c59af26cbad9.png  \n",
            "  inflating: /content/drive/My Drive/yolov5cardetection/images/images/attachment-efb7f5ca-3e2c-457f-bb29-d6a293c16d5c.png  \n",
            "  inflating: /content/drive/My Drive/yolov5cardetection/images/images/attachment-f00ec773-de1b-4dce-add3-3d29e816db81.png  \n",
            "  inflating: /content/drive/My Drive/yolov5cardetection/images/images/attachment-f062ff01-6ef1-4287-857a-a0dc18538d8c.png  \n",
            "  inflating: /content/drive/My Drive/yolov5cardetection/images/images/attachment-f12085c8-6f6d-44b2-b189-c2c1af15e1cd.png  \n",
            "  inflating: /content/drive/My Drive/yolov5cardetection/images/images/attachment-f1602295-10ab-4327-8090-19671a5ab483.png  \n",
            "  inflating: /content/drive/My Drive/yolov5cardetection/images/images/attachment-f297e5fd-811f-4046-a4ee-bfd1b6b807e1.png  \n",
            "  inflating: /content/drive/My Drive/yolov5cardetection/images/images/attachment-f3004c55-f19e-47a4-9eef-76de1ed3f6ab.png  \n",
            "  inflating: /content/drive/My Drive/yolov5cardetection/images/images/attachment-f30cea64-a61a-4d1d-b487-777cbdf2348f.png  \n",
            "  inflating: /content/drive/My Drive/yolov5cardetection/images/images/attachment-f356790c-81ac-48f4-9e10-759b18145bd2.png  \n",
            "  inflating: /content/drive/My Drive/yolov5cardetection/images/images/attachment-f35a7a11-e024-4b3a-a084-049a1bf9ab77.png  \n",
            "  inflating: /content/drive/My Drive/yolov5cardetection/images/images/attachment-f3a3c0f8-9db1-4714-a218-283cceea70b0.png  \n",
            "  inflating: /content/drive/My Drive/yolov5cardetection/images/images/attachment-f3c3a57e-cc1f-47c4-90ce-a4ca12eadf55.png  \n",
            "  inflating: /content/drive/My Drive/yolov5cardetection/images/images/attachment-f58027fc-a743-444f-859c-3423940bc334.png  \n",
            "  inflating: /content/drive/My Drive/yolov5cardetection/images/images/attachment-f7617d66-d8bb-4134-b3e4-616bd84568c5.png  \n",
            "  inflating: /content/drive/My Drive/yolov5cardetection/images/images/attachment-f770300e-8d97-44db-8079-2325537dc201.png  \n",
            "  inflating: /content/drive/My Drive/yolov5cardetection/images/images/attachment-f78503ff-1191-4f46-80eb-64a1fb99e614.png  \n",
            "  inflating: /content/drive/My Drive/yolov5cardetection/images/images/attachment-f79284eb-9850-400c-a03b-0d1f0adec4be.png  \n",
            "  inflating: /content/drive/My Drive/yolov5cardetection/images/images/attachment-f7a1fa37-dd24-4308-a3e3-6483a38f5510.png  \n",
            "  inflating: /content/drive/My Drive/yolov5cardetection/images/images/attachment-f7e4d6e4-69d4-4cb1-9677-25f18b929011.png  \n",
            "  inflating: /content/drive/My Drive/yolov5cardetection/images/images/attachment-f7f463a0-90cf-4ab9-b433-f261cb41090e.png  \n",
            "  inflating: /content/drive/My Drive/yolov5cardetection/images/images/attachment-f82890c6-f35f-4739-8a39-325ac6750007.png  \n",
            "  inflating: /content/drive/My Drive/yolov5cardetection/images/images/attachment-f8fe3208-0106-42e0-b1c9-e838d2cb176f.png  \n",
            "  inflating: /content/drive/My Drive/yolov5cardetection/images/images/attachment-f90cc4a5-f936-494f-b485-71a2eae25ebf.png  \n",
            "  inflating: /content/drive/My Drive/yolov5cardetection/images/images/attachment-f90f167c-1339-44b7-90fa-0bf62bd61ae2.png  \n",
            "  inflating: /content/drive/My Drive/yolov5cardetection/images/images/attachment-f91f33c9-5870-4d0d-98e3-4ae423cd1287.png  \n",
            "  inflating: /content/drive/My Drive/yolov5cardetection/images/images/attachment-f9affd72-898e-47a6-9ac6-9b256987820e.png  \n",
            "  inflating: /content/drive/My Drive/yolov5cardetection/images/images/attachment-fa0fa4cf-e6a4-43aa-94e2-3a4419565ab1.png  \n",
            "  inflating: /content/drive/My Drive/yolov5cardetection/images/images/attachment-fa364eb3-c94d-4deb-9ba7-3f53f22f8f6b.png  \n",
            "  inflating: /content/drive/My Drive/yolov5cardetection/images/images/attachment-fb10082a-e00f-40ea-9d93-052a253e819e.png  \n",
            "  inflating: /content/drive/My Drive/yolov5cardetection/images/images/attachment-fb4f9ea7-933a-4c17-97f7-1823c5cd60f5.png  \n",
            "  inflating: /content/drive/My Drive/yolov5cardetection/images/images/attachment-fbd9f7f3-4d2a-4d12-9b08-ef6b9bb36f7a.png  \n",
            "  inflating: /content/drive/My Drive/yolov5cardetection/images/images/attachment-fbe68ab2-55ac-4c96-b903-ad312cbaa787.png  \n",
            "  inflating: /content/drive/My Drive/yolov5cardetection/images/images/attachment-fc76c1bf-9ebc-45ed-9fc2-0b6001fab2d5.png  \n",
            "  inflating: /content/drive/My Drive/yolov5cardetection/images/images/attachment-fc913909-26c3-48e2-afb8-ae2d083e7ac0.png  \n",
            "  inflating: /content/drive/My Drive/yolov5cardetection/images/images/attachment-fd6c46c9-167e-4b4b-a5d5-7f2c3b6caf5f.png  \n",
            "  inflating: /content/drive/My Drive/yolov5cardetection/images/images/attachment-fda16016-25c5-4be9-912a-440b8bfdb2f2.png  \n",
            "  inflating: /content/drive/My Drive/yolov5cardetection/images/images/attachment-fdff869c-ab51-4950-9254-63ca1e96f472.png  \n",
            "  inflating: /content/drive/My Drive/yolov5cardetection/images/images/attachment-fefe08e2-09fd-4fc5-b48f-c99d5ee007b2.png  \n",
            "  inflating: /content/drive/My Drive/yolov5cardetection/images/images/attachment-ff4697eb-b9c0-4152-b1f6-65806b3a1eea.png  \n",
            "  inflating: /content/drive/My Drive/yolov5cardetection/images/images/attachment-ff68fe82-01d6-4829-9773-5f97cbce2c96.png  \n",
            "  inflating: /content/drive/My Drive/yolov5cardetection/images/images/attachment-ff72394d-b30b-4ec7-9779-14e2467ef75e.png  \n",
            "  inflating: /content/drive/My Drive/yolov5cardetection/images/images/IMG_0383.png  \n",
            "  inflating: /content/drive/My Drive/yolov5cardetection/images/images/IMG_0391.png  \n",
            "  inflating: /content/drive/My Drive/yolov5cardetection/images/images/IMG_0392.png  \n",
            "  inflating: /content/drive/My Drive/yolov5cardetection/images/images/IMG_0393.png  \n",
            "  inflating: /content/drive/My Drive/yolov5cardetection/images/images/IMG_0394.png  \n",
            "  inflating: /content/drive/My Drive/yolov5cardetection/images/images/IMG_0395.png  \n",
            "  inflating: /content/drive/My Drive/yolov5cardetection/images/images/IMG_0396.png  \n",
            "  inflating: /content/drive/My Drive/yolov5cardetection/images/images/IMG_0397.png  \n",
            "  inflating: /content/drive/My Drive/yolov5cardetection/images/images/IMG_0399.png  \n",
            "  inflating: /content/drive/My Drive/yolov5cardetection/images/images/IMG_0400.png  \n",
            "  inflating: /content/drive/My Drive/yolov5cardetection/images/images/IMG_0402.png  \n",
            "  inflating: /content/drive/My Drive/yolov5cardetection/images/images/IMG_0403.png  \n",
            "  inflating: /content/drive/My Drive/yolov5cardetection/images/images/IMG_0404.png  \n",
            "  inflating: /content/drive/My Drive/yolov5cardetection/images/images/IMG_0405.png  \n",
            "  inflating: /content/drive/My Drive/yolov5cardetection/images/images/IMG_0406.png  \n",
            "  inflating: /content/drive/My Drive/yolov5cardetection/images/images/IMG_0407.png  \n",
            "  inflating: /content/drive/My Drive/yolov5cardetection/images/images/IMG_0408.png  \n",
            "  inflating: /content/drive/My Drive/yolov5cardetection/images/images/IMG_0409.png  \n",
            "  inflating: /content/drive/My Drive/yolov5cardetection/images/images/IMG_0410.png  \n",
            "  inflating: /content/drive/My Drive/yolov5cardetection/images/images/IMG_0411.png  \n",
            "  inflating: /content/drive/My Drive/yolov5cardetection/images/images/IMG_0412.png  \n",
            "  inflating: /content/drive/My Drive/yolov5cardetection/images/images/IMG_0413.png  \n",
            "  inflating: /content/drive/My Drive/yolov5cardetection/images/images/IMG_0414.png  \n",
            "  inflating: /content/drive/My Drive/yolov5cardetection/images/images/IMG_0415.png  \n",
            "  inflating: /content/drive/My Drive/yolov5cardetection/images/images/IMG_0419.png  \n",
            "  inflating: /content/drive/My Drive/yolov5cardetection/images/images/IMG_0422.png  \n",
            "  inflating: /content/drive/My Drive/yolov5cardetection/images/images/IMG_0423.png  \n",
            "  inflating: /content/drive/My Drive/yolov5cardetection/images/images/IMG_0424.png  \n",
            "  inflating: /content/drive/My Drive/yolov5cardetection/images/images/IMG_0425.png  \n",
            "  inflating: /content/drive/My Drive/yolov5cardetection/images/images/IMG_0426.png  \n",
            "  inflating: /content/drive/My Drive/yolov5cardetection/images/images/IMG_3608.png  \n",
            "  inflating: /content/drive/My Drive/yolov5cardetection/images/images/IMG_3610.png  \n",
            "  inflating: /content/drive/My Drive/yolov5cardetection/images/images/IMG_3619.png  \n",
            "  inflating: /content/drive/My Drive/yolov5cardetection/images/images/IMG_3621.png  \n",
            "   creating: /content/drive/My Drive/yolov5cardetection/images/labels/\n",
            "  inflating: /content/drive/My Drive/yolov5cardetection/images/labels/attachment-e19784d5-1536-4bf3-a57b-c8605e1ea5bf.txt  \n",
            "  inflating: /content/drive/My Drive/yolov5cardetection/images/labels/attachment-e5563def-346a-4d57-b61d-31950d5a141c.txt  \n",
            "  inflating: /content/drive/My Drive/yolov5cardetection/images/labels/attachment-e7385331-eb94-471b-97ad-3ccf8e204830.txt  \n",
            "  inflating: /content/drive/My Drive/yolov5cardetection/images/labels/attachment-e99985c7-b432-4055-beac-96c3cc6f2bae.txt  \n",
            "  inflating: /content/drive/My Drive/yolov5cardetection/images/labels/attachment-ea47a4de-fda7-4bfc-904b-e40eb9537b4a.txt  \n",
            "  inflating: /content/drive/My Drive/yolov5cardetection/images/labels/attachment-ea5f64e5-0918-4b79-9826-8faec98d76e3.txt  \n",
            "  inflating: /content/drive/My Drive/yolov5cardetection/images/labels/attachment-ea6423be-a889-44f2-8cbe-30addf3d6ec4.txt  \n",
            "  inflating: /content/drive/My Drive/yolov5cardetection/images/labels/attachment-ea812f34-976d-4517-9c95-3ae19b59ff03.txt  \n",
            "  inflating: /content/drive/My Drive/yolov5cardetection/images/labels/attachment-eaa62896-b046-492b-ac04-d18a02c52e91.txt  \n",
            "  inflating: /content/drive/My Drive/yolov5cardetection/images/labels/attachment-eae8554d-94bf-40ca-8155-9ea4ab68d656.txt  \n",
            "  inflating: /content/drive/My Drive/yolov5cardetection/images/labels/attachment-eb084eb0-dd93-477a-be96-de1acecdb4be.txt  \n",
            "  inflating: /content/drive/My Drive/yolov5cardetection/images/labels/attachment-eb29a0d1-cd43-4377-b82e-a9fcc830970b.txt  \n",
            "  inflating: /content/drive/My Drive/yolov5cardetection/images/labels/attachment-ebc26d8e-9d16-4bd1-bd51-02f30f025a28.txt  \n",
            "  inflating: /content/drive/My Drive/yolov5cardetection/images/labels/attachment-ec2f3b42-58bd-4460-b75a-80138ce1d583.txt  \n",
            "  inflating: /content/drive/My Drive/yolov5cardetection/images/labels/attachment-ec753efe-0374-499b-ab84-475312f717b9.txt  \n",
            "  inflating: /content/drive/My Drive/yolov5cardetection/images/labels/attachment-ed55dfe6-7b70-4a2f-a9a6-68f91dbb56b4.txt  \n",
            "  inflating: /content/drive/My Drive/yolov5cardetection/images/labels/attachment-ed58a7fc-f343-44db-8333-ad9815ba8ad2.txt  \n",
            "  inflating: /content/drive/My Drive/yolov5cardetection/images/labels/attachment-ed7a45b4-6cb0-434a-a3f0-3a40f75fbc81.txt  \n",
            "  inflating: /content/drive/My Drive/yolov5cardetection/images/labels/attachment-edaf6d0c-db5c-44e5-85e8-0e7948db12f9.txt  \n",
            "  inflating: /content/drive/My Drive/yolov5cardetection/images/labels/attachment-edb0f57d-0469-43d6-a199-25c3f82b1ed9.txt  \n",
            "  inflating: /content/drive/My Drive/yolov5cardetection/images/labels/attachment-ee0425b0-afcf-4a19-9f9e-8b8822fba7ca.txt  \n",
            "  inflating: /content/drive/My Drive/yolov5cardetection/images/labels/attachment-ee5f1cb8-ffd8-4678-bba6-e19a454d5616.txt  \n",
            "  inflating: /content/drive/My Drive/yolov5cardetection/images/labels/attachment-ee7a3ffe-1573-4735-b736-9877bec0bf4c.txt  \n",
            "  inflating: /content/drive/My Drive/yolov5cardetection/images/labels/attachment-ef27208c-35b0-455b-87fc-bfe22e5d3b81.txt  \n",
            "  inflating: /content/drive/My Drive/yolov5cardetection/images/labels/attachment-ef820f08-c773-4206-9853-c59af26cbad9.txt  \n",
            "  inflating: /content/drive/My Drive/yolov5cardetection/images/labels/attachment-efb7f5ca-3e2c-457f-bb29-d6a293c16d5c.txt  \n",
            "  inflating: /content/drive/My Drive/yolov5cardetection/images/labels/attachment-f00ec773-de1b-4dce-add3-3d29e816db81.txt  \n",
            "  inflating: /content/drive/My Drive/yolov5cardetection/images/labels/attachment-f062ff01-6ef1-4287-857a-a0dc18538d8c.txt  \n",
            "  inflating: /content/drive/My Drive/yolov5cardetection/images/labels/attachment-f12085c8-6f6d-44b2-b189-c2c1af15e1cd.txt  \n",
            "  inflating: /content/drive/My Drive/yolov5cardetection/images/labels/attachment-f1602295-10ab-4327-8090-19671a5ab483.txt  \n",
            "  inflating: /content/drive/My Drive/yolov5cardetection/images/labels/attachment-f297e5fd-811f-4046-a4ee-bfd1b6b807e1.txt  \n",
            "  inflating: /content/drive/My Drive/yolov5cardetection/images/labels/attachment-f3004c55-f19e-47a4-9eef-76de1ed3f6ab.txt  \n",
            "  inflating: /content/drive/My Drive/yolov5cardetection/images/labels/attachment-f30cea64-a61a-4d1d-b487-777cbdf2348f.txt  \n",
            "  inflating: /content/drive/My Drive/yolov5cardetection/images/labels/attachment-f356790c-81ac-48f4-9e10-759b18145bd2.txt  \n",
            "  inflating: /content/drive/My Drive/yolov5cardetection/images/labels/attachment-f35a7a11-e024-4b3a-a084-049a1bf9ab77.txt  \n",
            "  inflating: /content/drive/My Drive/yolov5cardetection/images/labels/attachment-f3a3c0f8-9db1-4714-a218-283cceea70b0.txt  \n",
            "  inflating: /content/drive/My Drive/yolov5cardetection/images/labels/attachment-f3c3a57e-cc1f-47c4-90ce-a4ca12eadf55.txt  \n",
            "  inflating: /content/drive/My Drive/yolov5cardetection/images/labels/attachment-f58027fc-a743-444f-859c-3423940bc334.txt  \n",
            "  inflating: /content/drive/My Drive/yolov5cardetection/images/labels/attachment-f7617d66-d8bb-4134-b3e4-616bd84568c5.txt  \n",
            "  inflating: /content/drive/My Drive/yolov5cardetection/images/labels/attachment-f770300e-8d97-44db-8079-2325537dc201.txt  \n",
            "  inflating: /content/drive/My Drive/yolov5cardetection/images/labels/attachment-f78503ff-1191-4f46-80eb-64a1fb99e614.txt  \n",
            "  inflating: /content/drive/My Drive/yolov5cardetection/images/labels/attachment-f79284eb-9850-400c-a03b-0d1f0adec4be.txt  \n",
            "  inflating: /content/drive/My Drive/yolov5cardetection/images/labels/attachment-f7a1fa37-dd24-4308-a3e3-6483a38f5510.txt  \n",
            "  inflating: /content/drive/My Drive/yolov5cardetection/images/labels/attachment-f7e4d6e4-69d4-4cb1-9677-25f18b929011.txt  \n",
            "  inflating: /content/drive/My Drive/yolov5cardetection/images/labels/attachment-f7f463a0-90cf-4ab9-b433-f261cb41090e.txt  \n",
            "  inflating: /content/drive/My Drive/yolov5cardetection/images/labels/attachment-f82890c6-f35f-4739-8a39-325ac6750007.txt  \n",
            "  inflating: /content/drive/My Drive/yolov5cardetection/images/labels/attachment-f8fe3208-0106-42e0-b1c9-e838d2cb176f.txt  \n",
            "  inflating: /content/drive/My Drive/yolov5cardetection/images/labels/attachment-f90cc4a5-f936-494f-b485-71a2eae25ebf.txt  \n",
            "  inflating: /content/drive/My Drive/yolov5cardetection/images/labels/attachment-f90f167c-1339-44b7-90fa-0bf62bd61ae2.txt  \n",
            "  inflating: /content/drive/My Drive/yolov5cardetection/images/labels/attachment-f91f33c9-5870-4d0d-98e3-4ae423cd1287.txt  \n",
            "  inflating: /content/drive/My Drive/yolov5cardetection/images/labels/attachment-f9affd72-898e-47a6-9ac6-9b256987820e.txt  \n",
            "  inflating: /content/drive/My Drive/yolov5cardetection/images/labels/attachment-fa0fa4cf-e6a4-43aa-94e2-3a4419565ab1.txt  \n",
            "  inflating: /content/drive/My Drive/yolov5cardetection/images/labels/attachment-fa364eb3-c94d-4deb-9ba7-3f53f22f8f6b.txt  \n",
            "  inflating: /content/drive/My Drive/yolov5cardetection/images/labels/attachment-fb10082a-e00f-40ea-9d93-052a253e819e.txt  \n",
            "  inflating: /content/drive/My Drive/yolov5cardetection/images/labels/attachment-fb4f9ea7-933a-4c17-97f7-1823c5cd60f5.txt  \n",
            "  inflating: /content/drive/My Drive/yolov5cardetection/images/labels/attachment-fbd9f7f3-4d2a-4d12-9b08-ef6b9bb36f7a.txt  \n",
            "  inflating: /content/drive/My Drive/yolov5cardetection/images/labels/attachment-fbe68ab2-55ac-4c96-b903-ad312cbaa787.txt  \n",
            "  inflating: /content/drive/My Drive/yolov5cardetection/images/labels/attachment-fc76c1bf-9ebc-45ed-9fc2-0b6001fab2d5.txt  \n",
            "  inflating: /content/drive/My Drive/yolov5cardetection/images/labels/attachment-fc913909-26c3-48e2-afb8-ae2d083e7ac0.txt  \n",
            "  inflating: /content/drive/My Drive/yolov5cardetection/images/labels/attachment-fd6c46c9-167e-4b4b-a5d5-7f2c3b6caf5f.txt  \n",
            "  inflating: /content/drive/My Drive/yolov5cardetection/images/labels/attachment-fda16016-25c5-4be9-912a-440b8bfdb2f2.txt  \n",
            "  inflating: /content/drive/My Drive/yolov5cardetection/images/labels/attachment-fdff869c-ab51-4950-9254-63ca1e96f472.txt  \n",
            "  inflating: /content/drive/My Drive/yolov5cardetection/images/labels/attachment-fefe08e2-09fd-4fc5-b48f-c99d5ee007b2.txt  \n",
            "  inflating: /content/drive/My Drive/yolov5cardetection/images/labels/attachment-ff4697eb-b9c0-4152-b1f6-65806b3a1eea.txt  \n",
            "  inflating: /content/drive/My Drive/yolov5cardetection/images/labels/attachment-ff68fe82-01d6-4829-9773-5f97cbce2c96.txt  \n",
            "  inflating: /content/drive/My Drive/yolov5cardetection/images/labels/attachment-ff72394d-b30b-4ec7-9779-14e2467ef75e.txt  \n",
            " extracting: /content/drive/My Drive/yolov5cardetection/images/labels/classes.txt  \n",
            "  inflating: /content/drive/My Drive/yolov5cardetection/images/labels/IMG_0383.txt  \n",
            "  inflating: /content/drive/My Drive/yolov5cardetection/images/labels/IMG_0391.txt  \n",
            "  inflating: /content/drive/My Drive/yolov5cardetection/images/labels/IMG_0392.txt  \n",
            "  inflating: /content/drive/My Drive/yolov5cardetection/images/labels/IMG_0393.txt  \n",
            "  inflating: /content/drive/My Drive/yolov5cardetection/images/labels/IMG_0394.txt  \n",
            "  inflating: /content/drive/My Drive/yolov5cardetection/images/labels/IMG_0395.txt  \n",
            "  inflating: /content/drive/My Drive/yolov5cardetection/images/labels/IMG_0396.txt  \n",
            "  inflating: /content/drive/My Drive/yolov5cardetection/images/labels/IMG_0397.txt  \n",
            "  inflating: /content/drive/My Drive/yolov5cardetection/images/labels/IMG_0399.txt  \n",
            "  inflating: /content/drive/My Drive/yolov5cardetection/images/labels/IMG_0400.txt  \n",
            "  inflating: /content/drive/My Drive/yolov5cardetection/images/labels/IMG_0402.txt  \n",
            "  inflating: /content/drive/My Drive/yolov5cardetection/images/labels/IMG_0403.txt  \n",
            "  inflating: /content/drive/My Drive/yolov5cardetection/images/labels/IMG_0404.txt  \n",
            "  inflating: /content/drive/My Drive/yolov5cardetection/images/labels/IMG_0405.txt  \n",
            "  inflating: /content/drive/My Drive/yolov5cardetection/images/labels/IMG_0406.txt  \n",
            "  inflating: /content/drive/My Drive/yolov5cardetection/images/labels/IMG_0407.txt  \n",
            "  inflating: /content/drive/My Drive/yolov5cardetection/images/labels/IMG_0408.txt  \n",
            "  inflating: /content/drive/My Drive/yolov5cardetection/images/labels/IMG_0409.txt  \n",
            "  inflating: /content/drive/My Drive/yolov5cardetection/images/labels/IMG_0410.txt  \n",
            "  inflating: /content/drive/My Drive/yolov5cardetection/images/labels/IMG_0411.txt  \n",
            "  inflating: /content/drive/My Drive/yolov5cardetection/images/labels/IMG_0412.txt  \n",
            "  inflating: /content/drive/My Drive/yolov5cardetection/images/labels/IMG_0413.txt  \n",
            "  inflating: /content/drive/My Drive/yolov5cardetection/images/labels/IMG_0414.txt  \n",
            "  inflating: /content/drive/My Drive/yolov5cardetection/images/labels/IMG_0415.txt  \n",
            "  inflating: /content/drive/My Drive/yolov5cardetection/images/labels/IMG_0419.txt  \n",
            "  inflating: /content/drive/My Drive/yolov5cardetection/images/labels/IMG_0422.txt  \n",
            "  inflating: /content/drive/My Drive/yolov5cardetection/images/labels/IMG_0423.txt  \n",
            "  inflating: /content/drive/My Drive/yolov5cardetection/images/labels/IMG_0424.txt  \n",
            "  inflating: /content/drive/My Drive/yolov5cardetection/images/labels/IMG_0425.txt  \n",
            "  inflating: /content/drive/My Drive/yolov5cardetection/images/labels/IMG_0426.txt  \n",
            "  inflating: /content/drive/My Drive/yolov5cardetection/images/labels/IMG_3608.txt  \n",
            "  inflating: /content/drive/My Drive/yolov5cardetection/images/labels/IMG_3610.txt  \n",
            "  inflating: /content/drive/My Drive/yolov5cardetection/images/labels/IMG_3619.txt  \n",
            "  inflating: /content/drive/My Drive/yolov5cardetection/images/labels/IMG_3621.txt  \n"
          ],
          "name": "stdout"
        }
      ]
    },
    {
      "cell_type": "code",
      "metadata": {
        "colab": {
          "base_uri": "https://localhost:8080/"
        },
        "id": "k7hAqUljADY1",
        "outputId": "def90272-1e6a-4857-8325-c6fdd951ed83"
      },
      "source": [
        "!git clone 'https://github.com/ultralytics/yolov5.git' '/content/drive/My Drive/yolov5cardetection/yolov5'"
      ],
      "execution_count": null,
      "outputs": [
        {
          "output_type": "stream",
          "text": [
            "Cloning into '/content/drive/My Drive/yolov5cardetection/yolov5'...\n",
            "remote: Enumerating objects: 21, done.\u001b[K\n",
            "remote: Counting objects: 100% (21/21), done.\u001b[K\n",
            "remote: Compressing objects: 100% (15/15), done.\u001b[K\n",
            "remote: Total 4340 (delta 9), reused 15 (delta 6), pack-reused 4319\u001b[K\n",
            "Receiving objects: 100% (4340/4340), 7.35 MiB | 10.92 MiB/s, done.\n",
            "Resolving deltas: 100% (2936/2936), done.\n"
          ],
          "name": "stdout"
        }
      ]
    },
    {
      "cell_type": "code",
      "metadata": {
        "colab": {
          "base_uri": "https://localhost:8080/"
        },
        "id": "D_jHLC-PCchF",
        "outputId": "cbb68b5d-9003-4578-a4a1-cfdc4735b44d"
      },
      "source": [
        "!ls '/content/drive/My Drive/yolov5cardetection/yolov5'"
      ],
      "execution_count": null,
      "outputs": [
        {
          "output_type": "stream",
          "text": [
            "data\t    hubconf.py\t__pycache__\t  runs\t    tutorial.ipynb  yolov5s.pt\n",
            "detect.py   LICENSE\tREADME.md\t  test.py   utils\n",
            "Dockerfile  models\trequirements.txt  train.py  weights\n"
          ],
          "name": "stdout"
        }
      ]
    },
    {
      "cell_type": "code",
      "metadata": {
        "colab": {
          "base_uri": "https://localhost:8080/"
        },
        "id": "DVdGVjd8ClAN",
        "outputId": "95967146-3796-4431-de10-d8dd44d7dc9b"
      },
      "source": [
        "%cd /content/drive/My Drive/yolov5cardetection/yolov5\r\n",
        "!pip install -r requirements.txt"
      ],
      "execution_count": null,
      "outputs": [
        {
          "output_type": "stream",
          "text": [
            "/content/drive/My Drive/yolov5cardetection/yolov5\n",
            "Requirement already satisfied: Cython in /usr/local/lib/python3.6/dist-packages (from -r requirements.txt (line 4)) (0.29.21)\n",
            "Requirement already satisfied: matplotlib>=3.2.2 in /usr/local/lib/python3.6/dist-packages (from -r requirements.txt (line 5)) (3.2.2)\n",
            "Requirement already satisfied: numpy>=1.18.5 in /usr/local/lib/python3.6/dist-packages (from -r requirements.txt (line 6)) (1.19.5)\n",
            "Requirement already satisfied: opencv-python>=4.1.2 in /usr/local/lib/python3.6/dist-packages (from -r requirements.txt (line 7)) (4.1.2.30)\n",
            "Requirement already satisfied: Pillow in /usr/local/lib/python3.6/dist-packages (from -r requirements.txt (line 8)) (7.0.0)\n",
            "Collecting PyYAML>=5.3\n",
            "\u001b[?25l  Downloading https://files.pythonhosted.org/packages/7a/5b/bc0b5ab38247bba158504a410112b6c03f153c652734ece1849749e5f518/PyYAML-5.4.1-cp36-cp36m-manylinux1_x86_64.whl (640kB)\n",
            "\u001b[K     |████████████████████████████████| 645kB 18.7MB/s \n",
            "\u001b[?25hRequirement already satisfied: scipy>=1.4.1 in /usr/local/lib/python3.6/dist-packages (from -r requirements.txt (line 10)) (1.4.1)\n",
            "Requirement already satisfied: tensorboard>=2.2 in /usr/local/lib/python3.6/dist-packages (from -r requirements.txt (line 11)) (2.4.0)\n",
            "Requirement already satisfied: torch>=1.7.0 in /usr/local/lib/python3.6/dist-packages (from -r requirements.txt (line 12)) (1.7.0+cu101)\n",
            "Requirement already satisfied: torchvision>=0.8.1 in /usr/local/lib/python3.6/dist-packages (from -r requirements.txt (line 13)) (0.8.1+cu101)\n",
            "Requirement already satisfied: tqdm>=4.41.0 in /usr/local/lib/python3.6/dist-packages (from -r requirements.txt (line 14)) (4.41.1)\n",
            "Requirement already satisfied: seaborn>=0.11.0 in /usr/local/lib/python3.6/dist-packages (from -r requirements.txt (line 20)) (0.11.1)\n",
            "Requirement already satisfied: pandas in /usr/local/lib/python3.6/dist-packages (from -r requirements.txt (line 21)) (1.1.5)\n",
            "Collecting thop\n",
            "  Downloading https://files.pythonhosted.org/packages/6c/8b/22ce44e1c71558161a8bd54471123cc796589c7ebbfc15a7e8932e522f83/thop-0.0.31.post2005241907-py3-none-any.whl\n",
            "Requirement already satisfied: pycocotools>=2.0 in /usr/local/lib/python3.6/dist-packages (from -r requirements.txt (line 30)) (2.0.2)\n",
            "Requirement already satisfied: python-dateutil>=2.1 in /usr/local/lib/python3.6/dist-packages (from matplotlib>=3.2.2->-r requirements.txt (line 5)) (2.8.1)\n",
            "Requirement already satisfied: pyparsing!=2.0.4,!=2.1.2,!=2.1.6,>=2.0.1 in /usr/local/lib/python3.6/dist-packages (from matplotlib>=3.2.2->-r requirements.txt (line 5)) (2.4.7)\n",
            "Requirement already satisfied: cycler>=0.10 in /usr/local/lib/python3.6/dist-packages (from matplotlib>=3.2.2->-r requirements.txt (line 5)) (0.10.0)\n",
            "Requirement already satisfied: kiwisolver>=1.0.1 in /usr/local/lib/python3.6/dist-packages (from matplotlib>=3.2.2->-r requirements.txt (line 5)) (1.3.1)\n",
            "Requirement already satisfied: tensorboard-plugin-wit>=1.6.0 in /usr/local/lib/python3.6/dist-packages (from tensorboard>=2.2->-r requirements.txt (line 11)) (1.7.0)\n",
            "Requirement already satisfied: wheel>=0.26; python_version >= \"3\" in /usr/local/lib/python3.6/dist-packages (from tensorboard>=2.2->-r requirements.txt (line 11)) (0.36.2)\n",
            "Requirement already satisfied: google-auth<2,>=1.6.3 in /usr/local/lib/python3.6/dist-packages (from tensorboard>=2.2->-r requirements.txt (line 11)) (1.17.2)\n",
            "Requirement already satisfied: grpcio>=1.24.3 in /usr/local/lib/python3.6/dist-packages (from tensorboard>=2.2->-r requirements.txt (line 11)) (1.32.0)\n",
            "Requirement already satisfied: werkzeug>=0.11.15 in /usr/local/lib/python3.6/dist-packages (from tensorboard>=2.2->-r requirements.txt (line 11)) (1.0.1)\n",
            "Requirement already satisfied: markdown>=2.6.8 in /usr/local/lib/python3.6/dist-packages (from tensorboard>=2.2->-r requirements.txt (line 11)) (3.3.3)\n",
            "Requirement already satisfied: protobuf>=3.6.0 in /usr/local/lib/python3.6/dist-packages (from tensorboard>=2.2->-r requirements.txt (line 11)) (3.12.4)\n",
            "Requirement already satisfied: google-auth-oauthlib<0.5,>=0.4.1 in /usr/local/lib/python3.6/dist-packages (from tensorboard>=2.2->-r requirements.txt (line 11)) (0.4.2)\n",
            "Requirement already satisfied: requests<3,>=2.21.0 in /usr/local/lib/python3.6/dist-packages (from tensorboard>=2.2->-r requirements.txt (line 11)) (2.23.0)\n",
            "Requirement already satisfied: setuptools>=41.0.0 in /usr/local/lib/python3.6/dist-packages (from tensorboard>=2.2->-r requirements.txt (line 11)) (51.3.3)\n",
            "Requirement already satisfied: absl-py>=0.4 in /usr/local/lib/python3.6/dist-packages (from tensorboard>=2.2->-r requirements.txt (line 11)) (0.10.0)\n",
            "Requirement already satisfied: six>=1.10.0 in /usr/local/lib/python3.6/dist-packages (from tensorboard>=2.2->-r requirements.txt (line 11)) (1.15.0)\n",
            "Requirement already satisfied: typing-extensions in /usr/local/lib/python3.6/dist-packages (from torch>=1.7.0->-r requirements.txt (line 12)) (3.7.4.3)\n",
            "Requirement already satisfied: future in /usr/local/lib/python3.6/dist-packages (from torch>=1.7.0->-r requirements.txt (line 12)) (0.16.0)\n",
            "Requirement already satisfied: dataclasses in /usr/local/lib/python3.6/dist-packages (from torch>=1.7.0->-r requirements.txt (line 12)) (0.8)\n",
            "Requirement already satisfied: pytz>=2017.2 in /usr/local/lib/python3.6/dist-packages (from pandas->-r requirements.txt (line 21)) (2018.9)\n",
            "Requirement already satisfied: rsa<5,>=3.1.4; python_version >= \"3\" in /usr/local/lib/python3.6/dist-packages (from google-auth<2,>=1.6.3->tensorboard>=2.2->-r requirements.txt (line 11)) (4.6)\n",
            "Requirement already satisfied: pyasn1-modules>=0.2.1 in /usr/local/lib/python3.6/dist-packages (from google-auth<2,>=1.6.3->tensorboard>=2.2->-r requirements.txt (line 11)) (0.2.8)\n",
            "Requirement already satisfied: cachetools<5.0,>=2.0.0 in /usr/local/lib/python3.6/dist-packages (from google-auth<2,>=1.6.3->tensorboard>=2.2->-r requirements.txt (line 11)) (4.2.0)\n",
            "Requirement already satisfied: importlib-metadata; python_version < \"3.8\" in /usr/local/lib/python3.6/dist-packages (from markdown>=2.6.8->tensorboard>=2.2->-r requirements.txt (line 11)) (3.3.0)\n",
            "Requirement already satisfied: requests-oauthlib>=0.7.0 in /usr/local/lib/python3.6/dist-packages (from google-auth-oauthlib<0.5,>=0.4.1->tensorboard>=2.2->-r requirements.txt (line 11)) (1.3.0)\n",
            "Requirement already satisfied: certifi>=2017.4.17 in /usr/local/lib/python3.6/dist-packages (from requests<3,>=2.21.0->tensorboard>=2.2->-r requirements.txt (line 11)) (2020.12.5)\n",
            "Requirement already satisfied: urllib3!=1.25.0,!=1.25.1,<1.26,>=1.21.1 in /usr/local/lib/python3.6/dist-packages (from requests<3,>=2.21.0->tensorboard>=2.2->-r requirements.txt (line 11)) (1.24.3)\n",
            "Requirement already satisfied: chardet<4,>=3.0.2 in /usr/local/lib/python3.6/dist-packages (from requests<3,>=2.21.0->tensorboard>=2.2->-r requirements.txt (line 11)) (3.0.4)\n",
            "Requirement already satisfied: idna<3,>=2.5 in /usr/local/lib/python3.6/dist-packages (from requests<3,>=2.21.0->tensorboard>=2.2->-r requirements.txt (line 11)) (2.10)\n",
            "Requirement already satisfied: pyasn1>=0.1.3 in /usr/local/lib/python3.6/dist-packages (from rsa<5,>=3.1.4; python_version >= \"3\"->google-auth<2,>=1.6.3->tensorboard>=2.2->-r requirements.txt (line 11)) (0.4.8)\n",
            "Requirement already satisfied: zipp>=0.5 in /usr/local/lib/python3.6/dist-packages (from importlib-metadata; python_version < \"3.8\"->markdown>=2.6.8->tensorboard>=2.2->-r requirements.txt (line 11)) (3.4.0)\n",
            "Requirement already satisfied: oauthlib>=3.0.0 in /usr/local/lib/python3.6/dist-packages (from requests-oauthlib>=0.7.0->google-auth-oauthlib<0.5,>=0.4.1->tensorboard>=2.2->-r requirements.txt (line 11)) (3.1.0)\n",
            "Installing collected packages: PyYAML, thop\n",
            "  Found existing installation: PyYAML 3.13\n",
            "    Uninstalling PyYAML-3.13:\n",
            "      Successfully uninstalled PyYAML-3.13\n",
            "Successfully installed PyYAML-5.4.1 thop-0.0.31.post2005241907\n"
          ],
          "name": "stdout"
        }
      ]
    },
    {
      "cell_type": "code",
      "metadata": {
        "colab": {
          "base_uri": "https://localhost:8080/"
        },
        "id": "BwDSOEG4Cx0Q",
        "outputId": "43ec9a38-7380-4c6a-8459-8866b960dd45"
      },
      "source": [
        "!ls '/content/drive/My Drive/yolov5cardetection/images'"
      ],
      "execution_count": null,
      "outputs": [
        {
          "output_type": "stream",
          "text": [
            "images\tlabels\ttrain.txt  val.txt\n"
          ],
          "name": "stdout"
        }
      ]
    },
    {
      "cell_type": "code",
      "metadata": {
        "colab": {
          "base_uri": "https://localhost:8080/"
        },
        "id": "ypNAcPugDaFq",
        "outputId": "c9862787-e82a-4d87-cfa5-c790db0b62cf"
      },
      "source": [
        "%cat '/content/drive/My Drive/yolov5cardetection/images/data.yaml'"
      ],
      "execution_count": null,
      "outputs": [
        {
          "output_type": "stream",
          "text": [
            "train: ../train/images\n",
            "val: ../valid/images\n",
            "\n",
            "nc: 1\n",
            "names: ['car']"
          ],
          "name": "stdout"
        }
      ]
    },
    {
      "cell_type": "code",
      "metadata": {
        "colab": {
          "base_uri": "https://localhost:8080/"
        },
        "id": "5Sh4utcpEJ-S",
        "outputId": "83d28250-0a4b-4a36-90d3-80d27c5ea4dd"
      },
      "source": [
        "%cd /\r\n",
        "from glob import glob\r\n",
        "\r\n",
        "img_list = glob('/content/drive/My Drive/yolov5cardetection/images/images/*.png')\r\n",
        "\r\n",
        "print(len(img_list))"
      ],
      "execution_count": null,
      "outputs": [
        {
          "output_type": "stream",
          "text": [
            "/\n",
            "100\n"
          ],
          "name": "stdout"
        }
      ]
    },
    {
      "cell_type": "code",
      "metadata": {
        "colab": {
          "base_uri": "https://localhost:8080/"
        },
        "id": "wPGsoWFoJzXL",
        "outputId": "f2ce1602-3813-451e-9c42-8608f0d519d2"
      },
      "source": [
        "from sklearn.model_selection import train_test_split\r\n",
        "\r\n",
        "train_img_list, val_img_list = train_test_split(img_list, test_size=0.2, random_state=2000)\r\n",
        "\r\n",
        "print(len(train_img_list), len(val_img_list))"
      ],
      "execution_count": null,
      "outputs": [
        {
          "output_type": "stream",
          "text": [
            "80 20\n"
          ],
          "name": "stdout"
        }
      ]
    },
    {
      "cell_type": "code",
      "metadata": {
        "id": "0xvX2qUcKDeH"
      },
      "source": [
        "with open('/content/drive/My Drive/yolov5cardetection/images/train.txt', 'w') as f:\r\n",
        "  f.write('\\n'.join(train_img_list) + '\\n')\r\n",
        "\r\n",
        "with open('/content/drive/My Drive/yolov5cardetection/images/val.txt', 'w') as f:\r\n",
        "  f.write('\\n'.join(val_img_list) + '\\n')"
      ],
      "execution_count": null,
      "outputs": []
    },
    {
      "cell_type": "code",
      "metadata": {
        "colab": {
          "base_uri": "https://localhost:8080/"
        },
        "id": "8J6vgOxeKqRs",
        "outputId": "17e0323a-f39e-4b55-9c5e-340303212e32"
      },
      "source": [
        "%cd /content/drive/My Drive/yolov5cardetection/yolov5/\r\n",
        "\r\n",
        "!python train.py --img 416 --batch 16 --epochs 10 --data /content/drive/My Drive/yolov5cardetection/images/data.yaml --cfg ./content/drive/My Drive/yolov5cardetection/yolov5/models/yolov5s.yaml --weights yolov5s.pt --name carv5s_results"
      ],
      "execution_count": null,
      "outputs": [
        {
          "output_type": "stream",
          "text": [
            "/content/drive/My Drive/yolov5cardetection/yolov5\n",
            "usage: train.py [-h] [--weights WEIGHTS] [--cfg CFG] [--data DATA] [--hyp HYP]\n",
            "                [--epochs EPOCHS] [--batch-size BATCH_SIZE]\n",
            "                [--img-size IMG_SIZE [IMG_SIZE ...]] [--rect]\n",
            "                [--resume [RESUME]] [--nosave] [--notest] [--noautoanchor]\n",
            "                [--evolve] [--bucket BUCKET] [--cache-images]\n",
            "                [--image-weights] [--device DEVICE] [--multi-scale]\n",
            "                [--single-cls] [--adam] [--sync-bn] [--local_rank LOCAL_RANK]\n",
            "                [--log-imgs LOG_IMGS] [--log-artifacts] [--workers WORKERS]\n",
            "                [--project PROJECT] [--name NAME] [--exist-ok] [--quad]\n",
            "train.py: error: unrecognized arguments: Drive/yolov5cardetection/images/data.yaml Drive/yolov5cardetection/yolov5/models/yolov5s.yaml\n"
          ],
          "name": "stdout"
        }
      ]
    },
    {
      "cell_type": "code",
      "metadata": {
        "id": "MGppK1VoLRa0"
      },
      "source": [
        ""
      ],
      "execution_count": null,
      "outputs": []
    }
  ]
}